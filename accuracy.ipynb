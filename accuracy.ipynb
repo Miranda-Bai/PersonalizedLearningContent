{
 "cells": [
  {
   "cell_type": "code",
   "execution_count": 1,
   "metadata": {},
   "outputs": [],
   "source": [
    "import pandas as pd\n",
    "final_data = pd.read_csv('joined.csv')"
   ]
  },
  {
   "cell_type": "code",
   "execution_count": 11,
   "metadata": {},
   "outputs": [],
   "source": [
    "# cluster==2 depends on apriori\n",
    "final_data['predict'] = final_data['apriori']\n",
    "#cluster==0 more likely to success, predict=1\n",
    "final_data.loc[final_data.cluster==0,'predict']=1\n",
    "#cluster==1 more likely to fail, predict=0\n",
    "final_data.loc[final_data.cluster==1,'predict']=0"
   ]
  },
  {
   "cell_type": "code",
   "execution_count": 12,
   "metadata": {},
   "outputs": [],
   "source": [
    "pd.DataFrame(final_data).to_csv('final_result.csv')"
   ]
  },
  {
   "cell_type": "code",
   "execution_count": 13,
   "metadata": {},
   "outputs": [
    {
     "name": "stdout",
     "output_type": "stream",
     "text": [
      "\n",
      "---- METRICS RESULTS FOR TESTING DATA ----\n",
      "\n",
      "Total Rows are:  3638\n",
      "[TESTING] Model Accuracy is:  0.5717427157778999\n",
      "[TESTING] Testing Report: \n",
      "              precision    recall  f1-score   support\n",
      "\n",
      "           0       0.33      0.61      0.43       959\n",
      "           1       0.80      0.56      0.66      2679\n",
      "\n",
      "    accuracy                           0.57      3638\n",
      "   macro avg       0.57      0.59      0.54      3638\n",
      "weighted avg       0.68      0.57      0.60      3638\n",
      "\n"
     ]
    }
   ],
   "source": [
    "from sklearn.metrics import accuracy_score, classification_report, confusion_matrix, precision_score, recall_score, f1_score, roc_curve, auc\n",
    "\n",
    "y_test=final_data['adjusted_mark']\n",
    "y_pred_test=final_data['predict']\n",
    "X_test=final_data\n",
    "test_acc = accuracy_score(y_test,y_pred_test)\n",
    "test_rep = classification_report(y_test,y_pred_test)\n",
    "\n",
    "print()\n",
    "print(\"---- METRICS RESULTS FOR TESTING DATA ----\")\n",
    "print()\n",
    "print(\"Total Rows are: \", X_test.shape[0])\n",
    "print('[TESTING] Model Accuracy is: ', test_acc)\n",
    "print('[TESTING] Testing Report: ')\n",
    "print(test_rep)"
   ]
  }
 ],
 "metadata": {
  "kernelspec": {
   "display_name": "Python 3",
   "language": "python",
   "name": "python3"
  },
  "language_info": {
   "codemirror_mode": {
    "name": "ipython",
    "version": 3
   },
   "file_extension": ".py",
   "mimetype": "text/x-python",
   "name": "python",
   "nbconvert_exporter": "python",
   "pygments_lexer": "ipython3",
   "version": "3.11.2"
  },
  "orig_nbformat": 4,
  "vscode": {
   "interpreter": {
    "hash": "aee8b7b246df8f9039afb4144a1f6fd8d2ca17a180786b69acc140d282b71a49"
   }
  }
 },
 "nbformat": 4,
 "nbformat_minor": 2
}
