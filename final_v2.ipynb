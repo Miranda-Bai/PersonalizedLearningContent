{
 "cells": [
  {
   "cell_type": "code",
   "execution_count": null,
   "metadata": {},
   "outputs": [],
   "source": [
    "# import libraries\n",
    "import pandas as pd\n",
    "import numpy as np\n",
    "import matplotlib.pyplot as plt\n",
    "from sklearn.cluster import KMeans\n",
    "from sklearn.preprocessing import MinMaxScaler\n",
    "import seaborn as sns\n",
    "from mlxtend.frequent_patterns import apriori, association_rules\n",
    "from sklearn.metrics import accuracy_score, classification_report, confusion_matrix, precision_score, recall_score, f1_score, roc_curve, auc"
   ]
  },
  {
   "cell_type": "code",
   "execution_count": null,
   "metadata": {},
   "outputs": [],
   "source": [
    "# load data\n",
    "data = pd.read_csv('data/combineVle.csv')\n",
    "data.shape"
   ]
  },
  {
   "cell_type": "code",
   "execution_count": null,
   "metadata": {},
   "outputs": [],
   "source": [
    "data.rename(columns={'total_score*weight':'total_score'}, inplace=True)\n",
    "data.head()"
   ]
  },
  {
   "cell_type": "code",
   "execution_count": null,
   "metadata": {},
   "outputs": [],
   "source": [
    "# process data, change string to integer\n",
    "# change age_band\n",
    "data[\"age_band\"] = data[\"age_band\"].map({\"0-35\":1, \"35-55\":2, \"55<=\":3})\n",
    "\n",
    "# preprocess \"edu\" column\n",
    "data[\"highest_education\"] = data[\"highest_education\"] .map({\"No Formal quals\":0, \"Lower Than A Level\":1, \"A Level or Equivalent\":2, \"HE Qualification\":3, \"Post Graduate Qualification\":4})\n",
    "\n",
    "# change imd_band \n",
    "data[\"imd_band\"] = data[\"imd_band\"].map({\"0-10%\":0, \"10-20%\":1, \"20-30%\":2, \"30-40%\":3, \"40-50%\":4, \"50-60%\":5, \"60-70%\":6, \"70-80%\":7, \"80-90%\":8, \"90-100%\":9})\n",
    "\n",
    "# change module_presentation\n",
    "change={\"AAA_2013J\":1, \"AAA_2014J\":2, \"BBB_2013B\":3, \"BBB_2013J\":4, \"BBB_2014B\":5, \"BBB_2014J\":6, \"CCC_2014B\":7, \"CCC_2014J\":8,\\\n",
    "        \"DDD_2013B\":9, \"DDD_2013J\":10, \"DDD_2014B\":11, \"DDD_2014J\":12, \"EEE_2013J\":13, \"EEE_2014B\":14, \"EEE_2014J\":15,\\\n",
    "        \"FFF_2013B\":16, \"FFF_2013J\":17, \"FFF_2014B\":18, \"FFF_2014J\":19, \"GGG_2013J\":20, \"GGG_2014B\":21, \"GGG_2014J\":22}\n",
    "data[\"module_presentation\"] = data[\"module_presentation\"].map(change)\n",
    "\n",
    "# change final_result, don't need to transfer\n",
    "# data[\"final_result\"] = data[\"final_result\"].map({\"Withdrawn\":0,  \"Fail\":0,  \"Pass\":1, \"Distinction\":1})\n",
    "data.shape"
   ]
  },
  {
   "attachments": {},
   "cell_type": "markdown",
   "metadata": {},
   "source": [
    "# factors are ['imd_band', 'age_band', 'highest_education', 'module_presentation', 'total_click']\n",
    "# target will be 'total_score'. When total score is greater than 4000 which indicates that 'final_result' is pass or distinction"
   ]
  },
  {
   "cell_type": "code",
   "execution_count": null,
   "metadata": {},
   "outputs": [],
   "source": [
    "# Prepare the data\n",
    "x = data['total_score']  # 'total_score' column as x-axis\n",
    "y = data[['imd_band', 'age_band', 'highest_education', 'module_presentation', 'total_click']]  # Combination of five factor columns as y-axis\n",
    "\n",
    "# Create a scatter plot\n",
    "plt.scatter(x, y)\n",
    "\n",
    "# Set plot title and labels\n",
    "plt.title('K-means Clustering')\n",
    "plt.xlabel('Final Result')\n",
    "plt.ylabel('Factors')\n",
    "\n",
    "# Show the plot\n",
    "plt.show()\n"
   ]
  },
  {
   "cell_type": "code",
   "execution_count": null,
   "metadata": {},
   "outputs": [],
   "source": [
    "# K-Means clustering\n",
    "km = KMeans(n_clusters=3,init = 'k-means++')\n",
    "y_predicted = km.fit_predict(extracted_data)\n",
    "y_predicted"
   ]
  }
 ],
 "metadata": {
  "kernelspec": {
   "display_name": "Python 3",
   "language": "python",
   "name": "python3"
  },
  "language_info": {
   "name": "python",
   "version": "3.11.2 (v3.11.2:878ead1ac1, Feb  7 2023, 10:02:41) [Clang 13.0.0 (clang-1300.0.29.30)]"
  },
  "orig_nbformat": 4,
  "vscode": {
   "interpreter": {
    "hash": "aee8b7b246df8f9039afb4144a1f6fd8d2ca17a180786b69acc140d282b71a49"
   }
  }
 },
 "nbformat": 4,
 "nbformat_minor": 2
}
