{
 "cells": [
  {
   "cell_type": "code",
   "execution_count": null,
   "metadata": {},
   "outputs": [],
   "source": [
    "# virtualize clusters\n",
    "\n",
    "from sklearn.decomposition import PCA\n",
    "import numpy as np\n",
    "import pandas as pd\n",
    " \n",
    "#Load Data\n",
    "cluster_data=pd.read_csv('final_data.csv')\n",
    "pca = PCA(2)\n",
    " \n",
    "#Transform the data\n",
    "clusterdf=cluster_data[['imd_band', 'age_band', 'edu','adjusted_mark']]\n",
    "clusterdf = pca.fit_transform(clusterdf)\n",
    " \n",
    "clusterdf"
   ]
  },
  {
   "cell_type": "code",
   "execution_count": null,
   "metadata": {},
   "outputs": [],
   "source": [
    "#Import required module\n",
    "from sklearn.cluster import KMeans\n",
    " \n",
    "#Initialize the class object\n",
    "kmeans = KMeans(n_clusters= 3, init='k-means++')\n",
    " \n",
    "#predict the labels of clusters.\n",
    "label = kmeans.fit_predict(clusterdf)\n",
    " \n",
    "print(label)"
   ]
  },
  {
   "cell_type": "code",
   "execution_count": null,
   "metadata": {},
   "outputs": [],
   "source": [
    "kmeans.cluster_centers_"
   ]
  },
  {
   "cell_type": "code",
   "execution_count": null,
   "metadata": {},
   "outputs": [],
   "source": [
    "import matplotlib.pyplot as plt\n",
    " \n",
    "#filter rows of original data\n",
    "filtered_group1 = clusterdf[label== 0]\n",
    "filtered_group2 = clusterdf[label== 1]\n",
    "filtered_group3 = clusterdf[label== 2]\n",
    " \n",
    "#plotting the results\n",
    "plt.scatter(filtered_group1[:,0] , filtered_group1[:,1], color='blue')\n",
    "plt.scatter(filtered_group2[:,0] , filtered_group2[:,1] , color = 'red')\n",
    "plt.scatter(filtered_group3[:,0] , filtered_group3[:,1] , color = 'black')\n",
    "\n",
    "plt.show()"
   ]
  }
 ],
 "metadata": {
  "kernelspec": {
   "display_name": "Python 3",
   "language": "python",
   "name": "python3"
  },
  "language_info": {
   "name": "python",
   "version": "3.11.2 (v3.11.2:878ead1ac1, Feb  7 2023, 10:02:41) [Clang 13.0.0 (clang-1300.0.29.30)]"
  },
  "orig_nbformat": 4,
  "vscode": {
   "interpreter": {
    "hash": "aee8b7b246df8f9039afb4144a1f6fd8d2ca17a180786b69acc140d282b71a49"
   }
  }
 },
 "nbformat": 4,
 "nbformat_minor": 2
}
