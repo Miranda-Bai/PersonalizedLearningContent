{
 "cells": [
  {
   "cell_type": "code",
   "execution_count": 4,
   "metadata": {},
   "outputs": [],
   "source": [
    "import matplotlib.pyplot as plt\n",
    "import pandas as pd\n",
    "\n",
    "# Load data from CSV file\n",
    "data = pd.read_csv('oulad_train.csv')\n"
   ]
  },
  {
   "cell_type": "code",
   "execution_count": 5,
   "metadata": {},
   "outputs": [],
   "source": [
    "# final_result {\"Withdrawn\":0,  \"Fail\":1,  \"Pass\":2, \"Distinction\":3}\n",
    "# highest_education:{\"No Formal quals\":0, \"Lower Than A Level\":1, \"A Level or Equivalent\":2, \"HE Qualification\":3, \"Post Graduate Qualification\":4}\n",
    "# Create a scatter plot\n",
    "plt.scatter(data['age_band'],data['highest_education'], c=data['final_result'], cmap='viridis')\n",
    "plt.xlabel('age_band')\n",
    "plt.ylabel('highest_education')\n",
    "plt.title('Scatter Plot')\n",
    "plt.colorbar()\n",
    "plt.show()\n"
   ]
  },
  {
   "cell_type": "code",
   "execution_count": null,
   "metadata": {},
   "outputs": [],
   "source": [
    "df = pd.read_csv('OULAD_cleaned_data.csv')"
   ]
  },
  {
   "cell_type": "code",
   "execution_count": null,
   "metadata": {},
   "outputs": [],
   "source": [
    "df_agegroup=df.groupby(\"age_band\")\n",
    "df_agegroup.describe()"
   ]
  }
 ],
 "metadata": {
  "kernelspec": {
   "display_name": "Python 3",
   "language": "python",
   "name": "python3"
  },
  "language_info": {
   "codemirror_mode": {
    "name": "ipython",
    "version": 3
   },
   "file_extension": ".py",
   "mimetype": "text/x-python",
   "name": "python",
   "nbconvert_exporter": "python",
   "pygments_lexer": "ipython3",
   "version": "3.11.2"
  },
  "orig_nbformat": 4,
  "vscode": {
   "interpreter": {
    "hash": "aee8b7b246df8f9039afb4144a1f6fd8d2ca17a180786b69acc140d282b71a49"
   }
  }
 },
 "nbformat": 4,
 "nbformat_minor": 2
}
