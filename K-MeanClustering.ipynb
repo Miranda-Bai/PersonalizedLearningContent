{
 "cells": [
  {
   "attachments": {},
   "cell_type": "markdown",
   "metadata": {},
   "source": [
    "features:imd_band, age_band, edu, adjusted_mark"
   ]
  },
  {
   "cell_type": "code",
   "execution_count": null,
   "metadata": {},
   "outputs": [],
   "source": [
    "import pandas as pd\n",
    "import numpy as np\n",
    "import matplotlib.pyplot as plt\n",
    "from sklearn.cluster import KMeans\n",
    "from sklearn.preprocessing import MinMaxScaler\n",
    "\n",
    "\n",
    "# load the data\n",
    "data = pd.read_csv('data/combined-data.csv')"
   ]
  },
  {
   "cell_type": "code",
   "execution_count": null,
   "metadata": {},
   "outputs": [],
   "source": [
    "data.head()\n",
    "# data.shape"
   ]
  },
  {
   "cell_type": "code",
   "execution_count": null,
   "metadata": {},
   "outputs": [],
   "source": [
    "# pre-processing the columns\n",
    "# change age_band\n",
    "data[\"age_band\"] = data[\"age_band\"].map({\"0-35\":1, \"35-55\":2, \"55<=\":3})\n",
    "\n",
    "# preprocess \"edu\" column\n",
    "data[\"edu\"] = data[\"edu\"] .map({\"Level or lower\":0, \"HE or higher\":1})\n",
    "\n",
    "# change imd_band \n",
    "data[\"imd_band\"] = data[\"imd_band\"].map({\"01/10/2020\":'', \"0-10%\":0, \"10-20%\":1, \"20-30%\":2, \"30-40%\":3, \"40-50%\":4, \"50-60%\":5, \"60-70%\":6, \"70-80%\":7, \"80-90%\":8, \"90-100%\":9})"
   ]
  },
  {
   "cell_type": "code",
   "execution_count": null,
   "metadata": {},
   "outputs": [],
   "source": [
    "pd.DataFrame(data).to_csv('processed-data.csv')"
   ]
  },
  {
   "cell_type": "code",
   "execution_count": null,
   "metadata": {},
   "outputs": [],
   "source": [
    "data.dropna(inplace=True)\n",
    "data.shape"
   ]
  },
  {
   "cell_type": "code",
   "execution_count": null,
   "metadata": {},
   "outputs": [],
   "source": [
    "pd.DataFrame(data).to_csv('dropnull-data.csv')"
   ]
  },
  {
   "cell_type": "code",
   "execution_count": null,
   "metadata": {},
   "outputs": [],
   "source": [
    "# extract the four features, 'imd_band', 'age_band', 'edu','adjusted_mark'\n",
    "X = data.iloc[:, [5, 9, 10, 15]]\n",
    "# X.shape\n",
    "X.head()"
   ]
  },
  {
   "cell_type": "code",
   "execution_count": null,
   "metadata": {},
   "outputs": [],
   "source": [
    "# find the optimal value of k\n",
    "see = []\n",
    "for i in range(1, 11):\n",
    "    kmeans = KMeans(n_clusters=i)\n",
    "    kmeans.fit(X)\n",
    "    see.append(kmeans.inertia_)\n",
    "plt.plot(range(1, 11), see)\n",
    "plt.title('Elbow Method')\n",
    "plt.xlabel('Number of clusters')\n",
    "plt.ylabel('Sum of squared error')\n",
    "# plt.show()\n",
    "plt.savefig('image/elbow.png')\n"
   ]
  },
  {
   "cell_type": "code",
   "execution_count": null,
   "metadata": {},
   "outputs": [],
   "source": [
    "# k value is 3\n",
    "km=KMeans(n_clusters=3)\n",
    "print(km)"
   ]
  },
  {
   "cell_type": "code",
   "execution_count": null,
   "metadata": {},
   "outputs": [],
   "source": [
    "# preprocessing using min max scaler\n",
    "#  'imd_band', 'age_band', 'edu','adjusted_mark'\n",
    "\n",
    "scaler= MinMaxScaler()\n",
    "\n",
    "scaler.fit(data[['imd_band']])\n",
    "data['imd_band'] = scaler.transform(data[['imd_band']])\n",
    "\n",
    "scaler.fit(data[['age_band']])\n",
    "data['age_band'] = scaler.transform(data[['age_band']])\n",
    "\n",
    "scaler.fit(data[['edu']])\n",
    "data['edu'] = scaler.transform(data[['edu']])\n",
    "\n",
    "scaler.fit(data[['adjusted_mark']])\n",
    "data['adjusted_mark'] = scaler.transform(data[['adjusted_mark']])"
   ]
  },
  {
   "cell_type": "code",
   "execution_count": null,
   "metadata": {},
   "outputs": [],
   "source": [
    "pd.DataFrame(data).to_csv('minmaxscaled-data.csv')"
   ]
  },
  {
   "cell_type": "code",
   "execution_count": null,
   "metadata": {},
   "outputs": [],
   "source": [
    "# create a scatter plot with multiple x variables\n",
    "fig, ax = plt.subplots()\n",
    "ax.scatter(data['imd_band'], data['adjusted_mark'], color='blue', label='the Index of Multiple Deprivation')\n",
    "ax.scatter(data['age_band'], data['adjusted_mark'], color='red', label='Age')\n",
    "ax.scatter(data['edu'], data['adjusted_mark'], color='yellow', label='Previous Education')\n",
    "ax.legend()\n",
    "ax.set_xlabel('X')\n",
    "ax.set_ylabel('final mark')\n",
    "plt.show()"
   ]
  },
  {
   "cell_type": "code",
   "execution_count": null,
   "metadata": {},
   "outputs": [],
   "source": [
    "# extract the four features, 'imd_band', 'age_band', 'edu','adjusted_mark'\n",
    "predict_data = data.iloc[:, [5, 9, 10, 15]]\n",
    "km = KMeans(n_clusters=3)\n",
    "y_predicted = km.fit_predict(predict_data)\n",
    "y_predicted"
   ]
  },
  {
   "cell_type": "code",
   "execution_count": null,
   "metadata": {},
   "outputs": [],
   "source": [
    "data['cluster'] = y_predicted\n",
    "data.head()"
   ]
  },
  {
   "cell_type": "code",
   "execution_count": null,
   "metadata": {},
   "outputs": [],
   "source": [
    "pd.DataFrame(data).to_csv('clustered-data.csv')"
   ]
  }
 ],
 "metadata": {
  "kernelspec": {
   "display_name": "Python 3",
   "language": "python",
   "name": "python3"
  },
  "language_info": {
   "codemirror_mode": {
    "name": "ipython",
    "version": 3
   },
   "file_extension": ".py",
   "mimetype": "text/x-python",
   "name": "python",
   "nbconvert_exporter": "python",
   "pygments_lexer": "ipython3",
   "version": "3.11.2"
  },
  "orig_nbformat": 4,
  "vscode": {
   "interpreter": {
    "hash": "aee8b7b246df8f9039afb4144a1f6fd8d2ca17a180786b69acc140d282b71a49"
   }
  }
 },
 "nbformat": 4,
 "nbformat_minor": 2
}
